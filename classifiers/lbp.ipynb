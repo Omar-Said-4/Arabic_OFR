{
 "cells": [
  {
   "cell_type": "code",
   "execution_count": 8,
   "metadata": {},
   "outputs": [
    {
     "name": "stdout",
     "output_type": "stream",
     "text": [
      "The autoreload extension is already loaded. To reload it, use:\n",
      "  %reload_ext autoreload\n"
     ]
    }
   ],
   "source": [
    "import numpy as np\n",
    "from sklearn.neighbors import KNeighborsClassifier\n",
    "from sklearn.model_selection import train_test_split\n",
    "import pylab as pl\n",
    "from sklearn.neighbors import NearestNeighbors\n",
    "from sklearn.metrics import accuracy_score, classification_report\n",
    "from sklearn.cluster import MiniBatchKMeans\n",
    "from preprocess import *\n",
    "from collections import Counter\n",
    "import joblib\n",
    "import cv2\n",
    "from sklearn.decomposition import PCA\n",
    "from sklearn.preprocessing import StandardScaler\n",
    "# for faster execution using gpu\n",
    "#import cupy as cp\n",
    "import numpy as np\n",
    "import multiprocessing\n",
    "%load_ext autoreload\n",
    "%autoreload 2"
   ]
  },
  {
   "cell_type": "code",
   "execution_count": 2,
   "metadata": {},
   "outputs": [
    {
     "name": "stdout",
     "output_type": "stream",
     "text": [
      "['ScheherazadeNew', 'marhey', 'lemonada', 'ibm']\n"
     ]
    }
   ],
   "source": [
    "with open('fonts-dataset/font_names.txt') as file:\n",
    "    lines = file.readlines()\n",
    "    styles = [line.rstrip()[4:] for line in lines] # ignoring number at first of each style (first 4 chars)\n",
    "print(styles)"
   ]
  },
  {
   "cell_type": "code",
   "execution_count": 3,
   "metadata": {},
   "outputs": [],
   "source": [
    "x=[]\n",
    "y=[]\n",
    "for i in range(0, len(styles)):\n",
    "    for filename in sorted(glob.glob('fonts-dataset/'+str(i)+'/*.jpeg')):\n",
    "        img = cv2.imread(filename)\n",
    "     #   resized_img = cv2.resize(img, (200, 200))\n",
    "        x.append(img)\n",
    "        y.append(i)\n",
    "\n"
   ]
  },
  {
   "cell_type": "code",
   "execution_count": 4,
   "metadata": {},
   "outputs": [],
   "source": [
    "x_train, x_test, y_train, y_test = train_test_split(x,y, test_size=0.2)\n"
   ]
  },
  {
   "cell_type": "code",
   "execution_count": 50,
   "metadata": {},
   "outputs": [
    {
     "name": "stdout",
     "output_type": "stream",
     "text": [
      "x_train_preprocessed:  57954\n"
     ]
    }
   ],
   "source": [
    "x_train_preprocessed = []\n",
    "i=0\n",
    "y_train_modified=[]\n",
    "\n",
    "for img in x_train:\n",
    "    binr=threshold_image(img)\n",
    "    binr=assure_white_bg(binr)\n",
    "    img=denoise(img)\n",
    "    words=get_words_grey(binr,img, True)\n",
    "    words = np.array(words)\n",
    "    if len(words) > 19:\n",
    "        random_row_indices = np.random.choice(words.shape[0], size=19, replace=False)    \n",
    "        words = words[random_row_indices]\n",
    "\n",
    "    x_train_preprocessed.extend(words)\n",
    "    y_train_modified.extend([y_train[i]]*len(words))\n",
    "    i=i+1\n",
    "print(\"x_train_preprocessed: \", len(x_train_preprocessed))"
   ]
  },
  {
   "cell_type": "code",
   "execution_count": 36,
   "metadata": {},
   "outputs": [],
   "source": [
    "def lbp_calculated_pixel(img, x, y):\n",
    "    center = img[x, y]\n",
    "    top_left = img[x-1, y-1]\n",
    "    top = img[x-1, y]\n",
    "    top_right = img[x-1, y+1]\n",
    "    right = img[x, y+1]\n",
    "    bottom_right = img[x+1, y+1]\n",
    "    bottom = img[x+1, y]\n",
    "    bottom_left = img[x+1, y-1]\n",
    "    left = img[x, y-1]\n",
    "    # get lbp values\n",
    "    binary_values = np.array([top_left, top, top_right, right, bottom_right, bottom, bottom_left, left]) >= center\n",
    "    binary_values =  binary_values.reshape((8, -1)).T.astype(int)\n",
    "    powers_of_two = 2 ** np.arange(8)\n",
    "    powers_of_two = powers_of_two[::-1]\n",
    "    values=binary_values * powers_of_two\n",
    "    values=np.sum(values, axis=1)\n",
    "    # normalize the values\n",
    "    values=values/np.sum(values)\n",
    "   # print(values)\n",
    "    return values\n",
    "\n",
    "def lbp_feature_vector(img):\n",
    "    img=np.array(img)\n",
    "    height, width = img.shape\n",
    "    indices_x, indices_y = np.meshgrid(np.arange(1, height - 1), np.arange(1, width - 1), indexing='ij')\n",
    "    feature_vector = lbp_calculated_pixel(img, indices_x, indices_y)\n",
    "    return feature_vector.flatten()\n",
    "    \n",
    "def prepare_data(images):\n",
    "    data = []\n",
    "    for img in images:\n",
    "        data.append(lbp_feature_vector(img))\n",
    "    standardized_data = StandardScaler().fit_transform(data)\n",
    "    pca = PCA(n_components=0.95)\n",
    "    pca.fit(standardized_data)\n",
    "    data= pca.transform(standardized_data)\n",
    "    print(pca.n_components_)\n",
    "    return data,pca"
   ]
  },
  {
   "cell_type": "code",
   "execution_count": 52,
   "metadata": {},
   "outputs": [
    {
     "name": "stdout",
     "output_type": "stream",
     "text": [
      "2665\n"
     ]
    }
   ],
   "source": [
    "x_train_prepared,pca= prepare_data(x_train_preprocessed)\n"
   ]
  },
  {
   "cell_type": "code",
   "execution_count": 53,
   "metadata": {},
   "outputs": [
    {
     "name": "stdout",
     "output_type": "stream",
     "text": [
      "(57954, 2665)\n"
     ]
    }
   ],
   "source": [
    "x_train_prepared=np.array(x_train_prepared)\n",
    "print(x_train_prepared.shape)"
   ]
  },
  {
   "cell_type": "code",
   "execution_count": 54,
   "metadata": {},
   "outputs": [
    {
     "name": "stdout",
     "output_type": "stream",
     "text": [
      "x_train_preprocessed:  57954\n",
      "y_train_modified:  57954\n"
     ]
    }
   ],
   "source": [
    "print(\"x_train_preprocessed: \", len(x_train_prepared))\n",
    "print(\"y_train_modified: \", len(y_train_modified))\n",
    "from classifiers_manager import ClassifiersManager,Classifiers\n",
    "classifiers_manager = ClassifiersManager()\n",
    "classifiers_manager.train(Classifiers.random_forest,x_train_prepared,y_train_modified)"
   ]
  },
  {
   "cell_type": "code",
   "execution_count": null,
   "metadata": {},
   "outputs": [
    {
     "name": "stdout",
     "output_type": "stream",
     "text": [
      "                 precision    recall  f1-score   support\n",
      "\n",
      "ScheherazadeNew       0.51      0.53      0.52       186\n",
      "         marhey       0.63      0.35      0.45       192\n",
      "       lemonada       0.41      0.77      0.53       205\n",
      "            ibm       0.48      0.25      0.33       217\n",
      "\n",
      "       accuracy                           0.47       800\n",
      "      macro avg       0.50      0.47      0.46       800\n",
      "   weighted avg       0.50      0.47      0.45       800\n",
      "\n"
     ]
    }
   ],
   "source": [
    "img_predicted_labels = np.array([])\n",
    "for i in range(0,len(x_test)):\n",
    "    binr=threshold_image(x_test[i])\n",
    "    binr=assure_white_bg(binr)\n",
    "    img=denoise(x_test[i])\n",
    "    words=get_words_grey(binr,img, True)\n",
    "    \n",
    "    words = np.array(words)\n",
    "    if len(words) > 19:\n",
    "        random_row_indices = np.random.choice(words.shape[0], size=19, replace=False)    \n",
    "        words = words[random_row_indices]\n",
    "    \n",
    "    if(len(words) > 0):\n",
    "        data = []\n",
    "        for img in words:\n",
    "            data.append(lbp_feature_vector(img))\n",
    "        standardized_data = StandardScaler().fit_transform(data)\n",
    "        data= pca.transform(standardized_data)\n",
    "\n",
    "        features= np.array(data)\n",
    "    \n",
    "        words_predicted_labels= classifiers_manager.predict(Classifiers.random_forest,features)\n",
    "        preds_count= Counter(words_predicted_labels)\n",
    "        most_common_label = preds_count.most_common(1)[0][0]\n",
    "        img_predicted_labels = np.append(img_predicted_labels, most_common_label)\n",
    "    else:    \n",
    "        img_predicted_labels = np.append(img_predicted_labels, 0)\n",
    "\n",
    "print(classifiers_manager.getClassificationReport(img_predicted_labels, y_test, styles))\n"
   ]
  },
  {
   "cell_type": "code",
   "execution_count": 27,
   "metadata": {},
   "outputs": [
    {
     "name": "stdout",
     "output_type": "stream",
     "text": [
      "[2. 0. 0. 0. 0. 0. 0. 2. 0. 0. 0. 1. 0. 3. 0. 0. 0. 0. 2. 0. 0. 2. 0. 1.\n",
      " 3. 0. 0. 0. 2. 3. 0. 1. 0. 0. 2. 0. 0. 0. 1. 3. 0. 2. 0. 0. 0. 0. 0. 0.\n",
      " 0. 0. 0. 3. 0. 0. 1. 0. 0. 0. 0. 0. 0. 1. 0. 0. 2. 2. 0. 0. 3. 0. 0. 0.\n",
      " 0. 3. 0. 0. 0. 0. 3. 0. 0. 2. 0. 0. 0. 0. 0. 0. 0. 0. 0. 1. 1. 0. 1. 0.\n",
      " 0. 0. 0. 0. 0. 0. 0. 3. 0. 3. 0. 1. 0. 0. 0. 2. 2. 1. 3. 0. 3. 0. 0. 0.\n",
      " 0. 3. 0. 0. 0. 1. 0. 3. 2. 0. 1. 0. 0. 0. 0. 3. 0. 0. 0. 1. 0. 0. 0. 0.\n",
      " 0. 3. 3. 0. 0. 0. 0. 2. 0. 1. 0. 0. 0. 0. 0. 0. 3. 0. 0. 0. 1. 2. 0. 0.\n",
      " 2. 2. 2. 0. 0. 0. 2. 0. 0. 3. 0. 3. 0. 1. 0. 0. 0. 0. 1. 0. 0. 3. 0. 0.\n",
      " 0. 0. 0. 0. 0. 0. 3. 0. 0. 0. 3. 0. 0. 0. 2. 0. 1. 3. 3. 0. 1. 0. 0. 0.\n",
      " 0. 0. 0. 0. 0. 2. 0. 0. 0. 0. 0. 0. 0. 2. 0. 1. 0. 0. 0. 0. 0. 0. 2. 0.\n",
      " 0. 1. 0. 3. 0. 1. 0. 1. 0. 3. 0. 0. 0. 0. 0. 0. 0. 0. 0. 0. 0. 2. 0. 0.\n",
      " 0. 0. 1. 0. 0. 0. 2. 0. 3. 0. 0. 3. 0. 0. 0. 1. 2. 0. 1. 0. 0. 0. 0. 3.\n",
      " 2. 0. 0. 0. 1. 0. 0. 0. 0. 0. 3. 0. 2. 1. 0. 0. 0. 0. 1. 2. 0. 0. 0. 0.\n",
      " 0. 0. 0. 0. 0. 0. 0. 0. 3. 0. 0. 2. 2. 0. 1. 2. 1. 0. 0. 0. 0. 0. 3. 0.\n",
      " 0. 0. 0. 0. 1. 0. 0. 0. 0. 0. 0. 0. 0. 1. 0. 0. 0. 0. 0. 0. 0. 0. 0. 0.\n",
      " 0. 1. 0. 0. 2. 0. 0. 3. 0. 0. 0. 0. 0. 1. 0. 0. 0. 0. 0. 1. 0. 0. 0. 0.\n",
      " 0. 0. 0. 0. 3. 0. 0. 0. 2. 0. 0. 0. 0. 2. 0. 0. 0. 0. 3. 0. 0. 0. 0. 0.\n",
      " 2. 3. 0. 0. 0. 1. 1. 0. 2. 0. 0. 0. 0. 3. 0. 0. 0. 3. 0. 0. 3. 0. 0. 0.\n",
      " 3. 0. 0. 2. 0. 0. 0. 0. 0. 2. 0. 0. 0. 0. 1. 2. 3. 0. 0. 0. 0. 0. 3. 1.\n",
      " 3. 0. 0. 0. 0. 0. 3. 0. 2. 0. 0. 0. 0. 0. 2. 0. 0. 0. 0. 2. 0. 0. 0. 1.\n",
      " 0. 0. 0. 0. 0. 1. 0. 0. 0. 0. 0. 0. 3. 1. 1. 0. 0. 2. 0. 2. 0. 0. 0. 0.\n",
      " 0. 0. 0. 0. 0. 0. 0. 0. 2. 0. 0. 0. 3. 0. 0. 0. 0. 0. 0. 0. 3. 0. 0. 0.\n",
      " 0. 2. 0. 1. 0. 0. 0. 3. 3. 0. 3. 0. 0. 3. 1. 0. 0. 0. 0. 3. 0. 0. 2. 0.\n",
      " 0. 0. 0. 0. 0. 0. 0. 0. 0. 0. 2. 0. 0. 0. 0. 0. 0. 2. 0. 3. 3. 0. 0. 2.\n",
      " 1. 0. 3. 1. 0. 0. 0. 0. 3. 2. 0. 3. 2. 0. 1. 0. 0. 0. 0. 3. 3. 0. 0. 0.\n",
      " 0. 0. 3. 2. 0. 0. 1. 0. 0. 0. 0. 0. 0. 2. 0. 0. 0. 0. 0. 0. 0. 0. 2. 0.\n",
      " 0. 3. 0. 3. 2. 3. 0. 2. 0. 0. 0. 0. 3. 0. 0. 0. 0. 0. 0. 0. 0. 0. 0. 0.\n",
      " 3. 0. 1. 0. 1. 0. 3. 0. 0. 0. 0. 3. 3. 0. 0. 3. 3. 0. 0. 2. 3. 0. 0. 0.\n",
      " 2. 0. 2. 0. 0. 1. 0. 0. 0. 1. 3. 0. 0. 3. 1. 3. 0. 0. 0. 0. 0. 1. 0. 0.\n",
      " 0. 0. 0. 0. 0. 0. 0. 2. 0. 0. 0. 0. 3. 0. 0. 0. 0. 0. 0. 3. 0. 0. 2. 3.\n",
      " 3. 1. 0. 0. 0. 0. 0. 0. 0. 0. 0. 3. 0. 0. 0. 0. 0. 0. 0. 0. 3. 3. 3. 0.\n",
      " 0. 0. 0. 3. 0. 0. 2. 2. 2. 3. 0. 0. 2. 0. 3. 3. 0. 0. 0. 0. 0. 0. 3. 0.\n",
      " 3. 0. 0. 0. 0. 0. 0. 3. 0. 3. 2. 3. 0. 0. 0. 3. 0. 2. 0. 0. 0. 0. 0. 2.\n",
      " 0. 0. 0. 0. 0. 0. 3. 1.]\n",
      "---------------\n",
      "[2, 1, 1, 1, 1, 0, 1, 2, 0, 0, 2, 1, 3, 3, 0, 2, 3, 3, 2, 1, 3, 2, 0, 1, 3, 1, 2, 0, 2, 3, 0, 1, 0, 2, 1, 1, 1, 1, 1, 3, 3, 2, 0, 1, 0, 1, 3, 1, 0, 1, 2, 3, 2, 3, 1, 1, 0, 2, 1, 2, 0, 1, 1, 2, 2, 2, 2, 3, 3, 0, 1, 0, 3, 3, 0, 2, 0, 1, 3, 1, 0, 2, 2, 3, 3, 1, 2, 3, 1, 0, 0, 1, 1, 0, 1, 1, 0, 2, 1, 1, 2, 3, 0, 3, 3, 3, 1, 1, 0, 1, 0, 2, 2, 1, 2, 0, 2, 2, 1, 2, 3, 3, 1, 0, 1, 1, 2, 3, 2, 1, 1, 3, 0, 3, 3, 3, 2, 2, 1, 1, 0, 2, 3, 2, 0, 3, 3, 3, 0, 0, 0, 2, 3, 1, 3, 3, 1, 0, 2, 2, 3, 3, 0, 1, 1, 2, 3, 2, 2, 2, 2, 2, 1, 0, 2, 1, 0, 3, 2, 3, 3, 1, 0, 0, 3, 1, 1, 3, 0, 3, 2, 1, 0, 3, 0, 3, 1, 0, 3, 1, 2, 3, 3, 0, 0, 2, 2, 3, 1, 3, 3, 3, 1, 2, 0, 2, 1, 1, 1, 3, 0, 2, 0, 1, 0, 1, 0, 3, 0, 2, 3, 1, 1, 0, 0, 0, 3, 0, 2, 2, 0, 1, 2, 3, 2, 1, 1, 1, 0, 3, 1, 3, 3, 3, 3, 1, 3, 1, 3, 2, 0, 2, 3, 0, 3, 2, 1, 3, 1, 2, 2, 2, 2, 3, 0, 3, 0, 1, 1, 1, 2, 3, 1, 1, 0, 0, 3, 3, 2, 0, 3, 0, 1, 1, 1, 1, 3, 3, 3, 0, 2, 1, 2, 2, 3, 2, 1, 2, 1, 0, 0, 2, 1, 3, 3, 0, 0, 2, 0, 0, 3, 0, 0, 2, 2, 2, 1, 2, 1, 0, 3, 2, 3, 2, 3, 3, 2, 1, 0, 2, 1, 2, 1, 1, 1, 3, 1, 0, 3, 1, 0, 0, 3, 3, 0, 2, 3, 1, 1, 2, 3, 1, 3, 3, 2, 2, 0, 3, 3, 3, 2, 3, 3, 1, 3, 1, 2, 1, 0, 1, 3, 0, 0, 0, 3, 0, 3, 1, 3, 1, 1, 0, 2, 0, 1, 2, 0, 2, 0, 0, 1, 3, 2, 3, 3, 3, 1, 3, 2, 3, 0, 0, 1, 1, 1, 0, 2, 3, 3, 2, 2, 3, 2, 2, 0, 3, 0, 1, 3, 3, 1, 0, 3, 0, 0, 2, 1, 3, 2, 1, 3, 2, 0, 0, 0, 2, 1, 2, 3, 1, 3, 0, 0, 3, 3, 1, 3, 0, 1, 2, 2, 1, 3, 1, 2, 2, 1, 0, 3, 0, 2, 2, 1, 2, 1, 2, 2, 1, 2, 1, 0, 3, 3, 2, 2, 1, 0, 1, 3, 2, 2, 0, 3, 1, 1, 0, 0, 2, 3, 2, 3, 2, 0, 0, 1, 1, 0, 2, 3, 0, 3, 0, 2, 1, 2, 0, 3, 0, 0, 2, 3, 0, 2, 3, 3, 1, 0, 0, 0, 2, 0, 1, 1, 0, 2, 3, 3, 2, 3, 1, 1, 3, 1, 0, 0, 1, 1, 3, 3, 2, 2, 1, 2, 2, 1, 0, 2, 2, 2, 2, 2, 0, 2, 2, 3, 3, 2, 0, 1, 2, 0, 3, 3, 0, 2, 2, 1, 0, 1, 1, 0, 1, 0, 1, 3, 2, 2, 3, 2, 3, 1, 0, 3, 3, 2, 3, 1, 0, 3, 0, 0, 2, 3, 2, 3, 0, 1, 0, 0, 3, 3, 3, 3, 2, 1, 3, 0, 2, 2, 0, 2, 0, 2, 2, 2, 3, 0, 1, 2, 3, 1, 2, 2, 3, 1, 0, 3, 0, 2, 0, 3, 0, 2, 1, 1, 0, 2, 1, 3, 2, 1, 2, 1, 2, 3, 2, 3, 2, 2, 3, 3, 2, 0, 3, 3, 1, 1, 2, 3, 0, 3, 2, 2, 0, 2, 0, 3, 1, 0, 1, 0, 1, 3, 2, 2, 3, 1, 3, 0, 3, 0, 3, 3, 1, 2, 2, 1, 1, 1, 1, 0, 0, 2, 2, 1, 0, 0, 2, 3, 1, 1, 0, 1, 2, 2, 3, 3, 0, 2, 3, 3, 1, 1, 0, 1, 1, 3, 3, 0, 3, 2, 3, 1, 1, 1, 3, 0, 3, 0, 3, 3, 3, 3, 0, 0, 0, 2, 3, 2, 0, 2, 2, 2, 3, 0, 0, 2, 1, 3, 3, 2, 0, 3, 0, 3, 3, 3, 3, 3, 0, 2, 0, 0, 3, 2, 3, 2, 3, 2, 3, 2, 0, 1, 3, 1, 2, 2, 2, 2, 2, 2, 2, 1, 3, 0, 0, 0, 0, 3, 1]\n"
     ]
    }
   ],
   "source": [
    "print(img_predicted_labels)\n",
    "print(\"---------------\")\n",
    "print(y_test)\n"
   ]
  },
  {
   "cell_type": "code",
   "execution_count": null,
   "metadata": {},
   "outputs": [],
   "source": []
  }
 ],
 "metadata": {
  "kernelspec": {
   "display_name": "base",
   "language": "python",
   "name": "python3"
  },
  "language_info": {
   "codemirror_mode": {
    "name": "ipython",
    "version": 3
   },
   "file_extension": ".py",
   "mimetype": "text/x-python",
   "name": "python",
   "nbconvert_exporter": "python",
   "pygments_lexer": "ipython3",
   "version": "3.9.12"
  }
 },
 "nbformat": 4,
 "nbformat_minor": 2
}
