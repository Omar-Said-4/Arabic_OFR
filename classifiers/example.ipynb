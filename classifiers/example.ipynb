{
 "cells": [
  {
   "cell_type": "code",
   "execution_count": null,
   "metadata": {},
   "outputs": [],
   "source": [
    "styles=['ScheherazadeNew', 'marhey', 'lemonada', 'ibm']"
   ]
  },
  {
   "cell_type": "code",
   "execution_count": null,
   "metadata": {},
   "outputs": [],
   "source": [
    "from classifiers_manager import ClassifiersManager\n",
    "classifiers_manager = ClassifiersManager()\n",
    "classifiers_manager.train_all_classifiers(x_train,y_train)"
   ]
  },
  {
   "cell_type": "code",
   "execution_count": null,
   "metadata": {},
   "outputs": [],
   "source": [
    "classifiers_manager.test_all_classifiers(x_test,y_test,styles)\n",
    "classifiers_manager.print_metrics()"
   ]
  }
 ],
 "metadata": {
  "language_info": {
   "name": "python"
  }
 },
 "nbformat": 4,
 "nbformat_minor": 2
}
