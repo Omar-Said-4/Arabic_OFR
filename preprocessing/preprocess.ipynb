{
 "cells": [
  {
   "cell_type": "code",
   "execution_count": 1,
   "metadata": {},
   "outputs": [],
   "source": [
    "import numpy as np\n",
    "import matplotlib.pyplot as plt\n",
    "import math\n",
    "import cv2\n",
    "import re\n",
    "import glob\n",
    "from preprocess import *"
   ]
  },
  {
   "cell_type": "code",
   "execution_count": 2,
   "metadata": {},
   "outputs": [],
   "source": [
    "def load_Image(path):\n",
    "    image=cv2.imread(path)\n",
    "    return image"
   ]
  },
  {
   "cell_type": "code",
   "execution_count": 3,
   "metadata": {},
   "outputs": [],
   "source": [
    "# def load_Dataset(path):\n",
    "#     images = []\n",
    "#     sorted_files = sorted(glob.glob(path), key=lambda x: int(re.search(r'\\d+', x).group()))\n",
    "#     for img in sorted_files:\n",
    "#         n= cv2.imread(img)\n",
    "#         cv2.destroyAllWindows()\n",
    "#         images.append(n)\n",
    "#     print(len(images))\n",
    "#     return images"
   ]
  },
  {
   "cell_type": "code",
   "execution_count": 4,
   "metadata": {},
   "outputs": [],
   "source": [
    "# def threshold_image(image):\n",
    "#     gray_image = cv2.cvtColor(image, cv2.COLOR_BGR2GRAY)\n",
    "#     cv2.imshow('gray', gray_image)\n",
    "#     cv2.waitKey(0)\n",
    "#     cv2.destroyAllWindows()\n",
    "#    # median_filter = cv2.medianBlur(gray_image, 5)\n",
    "#     # Calculate the histogram\n",
    "#     hist = cv2.calcHist([gray_image], [0], None, [256], [0, 256])\n",
    "#     # Get the total number of pixels in the image\n",
    "#     total_pixels = gray_image.shape[0] * gray_image.shape[1]\n",
    "#     # Calculate the ratio of black pixels to white pixels\n",
    "#     black_ratio = sum(hist[:50]) / total_pixels\n",
    "#     white_ratio = sum(hist[200:]) / total_pixels\n",
    "    \n",
    "#     # Set the threshold accordingly\n",
    "#     if black_ratio > white_ratio:\n",
    "#         ret, thresh = cv2.threshold(gray_image,0, 255, cv2.THRESH_BINARY_INV  + cv2.THRESH_OTSU) #50\n",
    "#     else: \n",
    "#         ret, thresh = cv2.threshold(gray_image, 0, 255, cv2.THRESH_BINARY + cv2.THRESH_OTSU)   #180\n",
    "#     # check salt and pepper to rethreshold\n",
    "#     contours, _ = cv2.findContours(thresh, cv2.RETR_LIST, cv2.CHAIN_APPROX_SIMPLE)\n",
    "#     min_contour_area = 50\n",
    "#     filtered_contours = [cnt for cnt in contours if cv2.contourArea(cnt) > min_contour_area]\n",
    "#     if abs(len(filtered_contours)-len(contours))<8000 :\n",
    "#        return thresh\n",
    "#     else:\n",
    "#         median_filter = cv2.medianBlur(gray_image, 5)\n",
    "#         if black_ratio > white_ratio:\n",
    "#             ret, thresh = cv2.threshold(median_filter,0, 255, cv2.THRESH_BINARY_INV  + cv2.THRESH_OTSU) #50\n",
    "#         else: \n",
    "#             ret, thresh = cv2.threshold(median_filter, 0, 255, cv2.THRESH_BINARY + cv2.THRESH_OTSU)   #180\n",
    "#     return thresh"
   ]
  },
  {
   "cell_type": "code",
   "execution_count": 5,
   "metadata": {},
   "outputs": [],
   "source": [
    "def denoise(image):\n",
    "    gray_image = cv2.cvtColor(image, cv2.COLOR_BGR2GRAY)\n",
    "    hist = cv2.calcHist([gray_image], [0], None, [256], [0, 256])\n",
    "    # Get the total number of pixels in the image\n",
    "    total_pixels = gray_image.shape[0] * gray_image.shape[1]\n",
    "    # Calculate the ratio of black pixels to white pixels\n",
    "    black_ratio = sum(hist[:50]) / total_pixels\n",
    "    white_ratio = sum(hist[200:]) / total_pixels\n",
    "    \n",
    "    # Set the threshold accordingly\n",
    "    if black_ratio > white_ratio:\n",
    "        ret, thresh = cv2.threshold(gray_image,0, 255, cv2.THRESH_BINARY_INV  + cv2.THRESH_OTSU) #50\n",
    "    else: \n",
    "        ret, thresh = cv2.threshold(gray_image, 0, 255, cv2.THRESH_BINARY + cv2.THRESH_OTSU)   #180\n",
    "    # check salt and pepper to rethreshold\n",
    "    contours, _ = cv2.findContours(thresh, cv2.RETR_LIST, cv2.CHAIN_APPROX_SIMPLE)\n",
    "    min_contour_area = 50\n",
    "    filtered_contours = [cnt for cnt in contours if cv2.contourArea(cnt) > min_contour_area]\n",
    "    if abs(len(filtered_contours)-len(contours))<8000 :\n",
    "       return gray_image\n",
    "    else:\n",
    "        median_filter = cv2.medianBlur(gray_image, 5)\n",
    "        return median_filter"
   ]
  },
  {
   "cell_type": "code",
   "execution_count": 6,
   "metadata": {},
   "outputs": [],
   "source": [
    "def get_words_grey(binr,img,resize=False):\n",
    "    process_on=binr.copy()\n",
    "    dilated_image = cv2.dilate(process_on, np.ones((3, 3), np.uint8), iterations=1)\n",
    "    contours, _ = cv2.findContours(dilated_image, cv2.RETR_LIST, cv2.CHAIN_APPROX_SIMPLE)\n",
    "    # Filter out the small contours\n",
    "    min_contour_area = 50\n",
    "    filtered_contours = [cnt for cnt in contours if cv2.contourArea(cnt) > min_contour_area]\n",
    "    # Sort the contours from left to right\n",
    "    filtered_contours = sorted(filtered_contours, key=lambda cnt: cv2.boundingRect(cnt)[0])\n",
    "    # cv2.drawContours(x, filtered_contours, -1, (0, 255, 0), 3)\n",
    "    # cv2.imshow('contours', x)\n",
    "    # cv2.waitKey(0)\n",
    "    # cv2.destroyAllWindows()\n",
    "    cropped_images = []\n",
    "    \n",
    "    # Iterate through each contour and crop the image\n",
    "    for contour in filtered_contours:\n",
    "        x, y, w, h = cv2.boundingRect(contour)\n",
    "        if (w*h >1000 ):\n",
    "            cropped_image = img[y:y+h, x:x+w]\n",
    "            if resize:\n",
    "                cropped_image = cv2.resize(cropped_image, (64, 64))\n",
    "            cropped_images.append(cropped_image)\n",
    "    \n",
    "    # Display the cropped images (optional)\n",
    "    # for i, cropped_img in enumerate(cropped_images):\n",
    "    #     cv2.imshow(f'Cropped Image {i}', cropped_img)\n",
    "    #     cv2.waitKey(0)\n",
    "    \n",
    "    # cv2.destroyAllWindows()\n",
    "    #print (f'Number of words: {len(cropped_images)}')\n",
    "    return cropped_images    "
   ]
  },
  {
   "cell_type": "code",
   "execution_count": 7,
   "metadata": {},
   "outputs": [],
   "source": [
    "# def assure_white_bg(image):\n",
    "#     hist = cv2.calcHist([image], [0], None, [256], [0, 256])\n",
    "#     total_pixels = image.shape[0] * image.shape[1]\n",
    "#     # Calculate the ratio of black pixels to white pixels\n",
    "#     black_ratio = sum(hist[:50]) / total_pixels\n",
    "#     white_ratio = sum(hist[200:]) / total_pixels\n",
    "#     thresh=image.copy()\n",
    "#     if black_ratio > white_ratio:\n",
    "#         ret, thresh = cv2.threshold(image,50, 255, cv2.THRESH_BINARY_INV)\n",
    "#     return thresh\n"
   ]
  },
  {
   "cell_type": "code",
   "execution_count": 8,
   "metadata": {},
   "outputs": [],
   "source": [
    "#test1=load_Dataset(\"../fonts-dataset/Lemonada/*.jpeg\")\n",
    "# test1=load_Image(\"../fonts-dataset/Lemonada/0.jpeg\")\n",
    "# print(len(test1))\n",
    "# #for img in test1:\n",
    "# img=threshold_image(test1)\n",
    "# img=assure_white_bg(img)\n",
    "# cv2.imshow(\"Image\", img)\n",
    "# cv2.waitKey(0)\n",
    "# cv2.destroyAllWindows()"
   ]
  },
  {
   "cell_type": "code",
   "execution_count": 9,
   "metadata": {},
   "outputs": [
    {
     "name": "stdout",
     "output_type": "stream",
     "text": [
      "832\n"
     ]
    }
   ],
   "source": [
    "test1=load_Dataset(\"../fonts-dataset/Lemonada/*.jpeg\")"
   ]
  },
  {
   "cell_type": "code",
   "execution_count": 11,
   "metadata": {},
   "outputs": [],
   "source": [
    "for img in test1:\n",
    "    img = threshold_image(img)\n",
    "    img= assure_white_bg(img)\n",
    "    words=get_words(img)\n",
    "    for word in words:\n",
    "        cv2.imshow(\"w\", word)\n",
    "        cv2.waitKey(0)\n",
    "        cv2.destroyAllWindows() "
   ]
  },
  {
   "cell_type": "code",
   "execution_count": 10,
   "metadata": {},
   "outputs": [],
   "source": [
    "for img in test1:\n",
    "    #x=img.copy()\n",
    "    binr=threshold_image(img)\n",
    "    binr=assure_white_bg(binr)\n",
    "    img=denoise(img)\n",
    "    words=get_words_grey(binr,img,resize=True)\n",
    "    for word in words:\n",
    "        cv2.imshow(\"Image\", word)\n",
    "        cv2.waitKey(0)\n",
    "        cv2.destroyAllWindows()\n",
    "    # print(img.shape)\n",
    "    # cv2.imshow(\"Image\", img)\n",
    "    # cv2.waitKey(0)\n",
    "    # cv2.destroyAllWindows()"
   ]
  }
 ],
 "metadata": {
  "kernelspec": {
   "display_name": "Python 3",
   "language": "python",
   "name": "python3"
  },
  "language_info": {
   "codemirror_mode": {
    "name": "ipython",
    "version": 3
   },
   "file_extension": ".py",
   "mimetype": "text/x-python",
   "name": "python",
   "nbconvert_exporter": "python",
   "pygments_lexer": "ipython3",
   "version": "3.11.4"
  }
 },
 "nbformat": 4,
 "nbformat_minor": 2
}
