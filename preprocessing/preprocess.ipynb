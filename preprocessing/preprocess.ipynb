{
 "cells": [
  {
   "cell_type": "code",
   "execution_count": 58,
   "metadata": {},
   "outputs": [],
   "source": [
    "import numpy as np\n",
    "import matplotlib.pyplot as plt\n",
    "import math\n",
    "import cv2\n",
    "import re\n",
    "import glob\n",
    "from preprocess import *"
   ]
  },
  {
   "cell_type": "code",
   "execution_count": 59,
   "metadata": {},
   "outputs": [],
   "source": [
    "# def load_Image(path):\n",
    "#     image=cv2.imread(path)\n",
    "#     return image"
   ]
  },
  {
   "cell_type": "code",
   "execution_count": 60,
   "metadata": {},
   "outputs": [],
   "source": [
    "# def load_Dataset(path):\n",
    "#     images = []\n",
    "#     sorted_files = sorted(glob.glob(path), key=lambda x: int(re.search(r'\\d+', x).group()))\n",
    "#     for img in sorted_files:\n",
    "#         n= cv2.imread(img)\n",
    "#         cv2.destroyAllWindows()\n",
    "#         images.append(n)\n",
    "#     print(len(images))\n",
    "#     return images"
   ]
  },
  {
   "cell_type": "code",
   "execution_count": 61,
   "metadata": {},
   "outputs": [],
   "source": [
    "# def threshold_image(image):\n",
    "#     gray_image = cv2.cvtColor(image, cv2.COLOR_BGR2GRAY)\n",
    "#     cv2.imshow('gray', gray_image)\n",
    "#     cv2.waitKey(0)\n",
    "#     cv2.destroyAllWindows()\n",
    "#    # median_filter = cv2.medianBlur(gray_image, 5)\n",
    "#     # Calculate the histogram\n",
    "#     hist = cv2.calcHist([gray_image], [0], None, [256], [0, 256])\n",
    "#     # Get the total number of pixels in the image\n",
    "#     total_pixels = gray_image.shape[0] * gray_image.shape[1]\n",
    "#     # Calculate the ratio of black pixels to white pixels\n",
    "#     black_ratio = sum(hist[:50]) / total_pixels\n",
    "#     white_ratio = sum(hist[200:]) / total_pixels\n",
    "    \n",
    "#     # Set the threshold accordingly\n",
    "#     if black_ratio > white_ratio:\n",
    "#         ret, thresh = cv2.threshold(gray_image,0, 255, cv2.THRESH_BINARY_INV  + cv2.THRESH_OTSU) #50\n",
    "#     else: \n",
    "#         ret, thresh = cv2.threshold(gray_image, 0, 255, cv2.THRESH_BINARY + cv2.THRESH_OTSU)   #180\n",
    "#     # check salt and pepper to rethreshold\n",
    "#     contours, _ = cv2.findContours(thresh, cv2.RETR_LIST, cv2.CHAIN_APPROX_SIMPLE)\n",
    "#     min_contour_area = 50\n",
    "#     filtered_contours = [cnt for cnt in contours if cv2.contourArea(cnt) > min_contour_area]\n",
    "#     if abs(len(filtered_contours)-len(contours))<8000 :\n",
    "#        return thresh\n",
    "#     else:\n",
    "#         median_filter = cv2.medianBlur(gray_image, 5)\n",
    "#         if black_ratio > white_ratio:\n",
    "#             ret, thresh = cv2.threshold(median_filter,0, 255, cv2.THRESH_BINARY_INV  + cv2.THRESH_OTSU) #50\n",
    "#         else: \n",
    "#             ret, thresh = cv2.threshold(median_filter, 0, 255, cv2.THRESH_BINARY + cv2.THRESH_OTSU)   #180\n",
    "#     return thresh"
   ]
  },
  {
   "cell_type": "code",
   "execution_count": 62,
   "metadata": {},
   "outputs": [],
   "source": [
    "# def assure_white_bg(image):\n",
    "#     hist = cv2.calcHist([image], [0], None, [256], [0, 256])\n",
    "#     total_pixels = image.shape[0] * image.shape[1]\n",
    "#     # Calculate the ratio of black pixels to white pixels\n",
    "#     black_ratio = sum(hist[:50]) / total_pixels\n",
    "#     white_ratio = sum(hist[200:]) / total_pixels\n",
    "#     thresh=image.copy()\n",
    "#     if black_ratio > white_ratio:\n",
    "#         ret, thresh = cv2.threshold(image,50, 255, cv2.THRESH_BINARY_INV)\n",
    "#     return thresh\n"
   ]
  },
  {
   "cell_type": "code",
   "execution_count": 63,
   "metadata": {},
   "outputs": [
    {
     "name": "stdout",
     "output_type": "stream",
     "text": [
      "1181\n"
     ]
    }
   ],
   "source": [
    "#test1=load_Dataset(\"../fonts-dataset/Lemonada/*.jpeg\")\n",
    "test1=load_Image(\"../fonts-dataset/Lemonada/0.jpeg\")\n",
    "print(len(test1))\n",
    "#for img in test1:\n",
    "img=threshold_image(test1)\n",
    "img=assure_white_bg(img)\n",
    "cv2.imshow(\"Image\", img)\n",
    "cv2.waitKey(0)\n",
    "cv2.destroyAllWindows()"
   ]
  },
  {
   "cell_type": "code",
   "execution_count": 57,
   "metadata": {},
   "outputs": [
    {
     "ename": "KeyboardInterrupt",
     "evalue": "",
     "output_type": "error",
     "traceback": [
      "\u001b[1;31m---------------------------------------------------------------------------\u001b[0m",
      "\u001b[1;31mKeyboardInterrupt\u001b[0m                         Traceback (most recent call last)",
      "Cell \u001b[1;32mIn[57], line 1\u001b[0m\n\u001b[1;32m----> 1\u001b[0m test1\u001b[38;5;241m=\u001b[39m\u001b[43mload_Dataset\u001b[49m\u001b[43m(\u001b[49m\u001b[38;5;124;43m\"\u001b[39;49m\u001b[38;5;124;43m../fonts-dataset/Scheherazade New/*.jpeg\u001b[39;49m\u001b[38;5;124;43m\"\u001b[39;49m\u001b[43m)\u001b[49m\n",
      "File \u001b[1;32md:\\Omar\\NN\\Project\\NN\\preprocessing\\preprocess.py:16\u001b[0m, in \u001b[0;36mload_Dataset\u001b[1;34m(path)\u001b[0m\n\u001b[0;32m     14\u001b[0m sorted_files \u001b[38;5;241m=\u001b[39m \u001b[38;5;28msorted\u001b[39m(glob\u001b[38;5;241m.\u001b[39mglob(path), key\u001b[38;5;241m=\u001b[39m\u001b[38;5;28;01mlambda\u001b[39;00m x: \u001b[38;5;28mint\u001b[39m(re\u001b[38;5;241m.\u001b[39msearch(\u001b[38;5;124mr\u001b[39m\u001b[38;5;124m'\u001b[39m\u001b[38;5;124m\\\u001b[39m\u001b[38;5;124md+\u001b[39m\u001b[38;5;124m'\u001b[39m, x)\u001b[38;5;241m.\u001b[39mgroup()))\n\u001b[0;32m     15\u001b[0m \u001b[38;5;28;01mfor\u001b[39;00m img \u001b[38;5;129;01min\u001b[39;00m sorted_files:\n\u001b[1;32m---> 16\u001b[0m     n\u001b[38;5;241m=\u001b[39m \u001b[43mcv2\u001b[49m\u001b[38;5;241;43m.\u001b[39;49m\u001b[43mimread\u001b[49m\u001b[43m(\u001b[49m\u001b[43mimg\u001b[49m\u001b[43m)\u001b[49m\n\u001b[0;32m     17\u001b[0m     cv2\u001b[38;5;241m.\u001b[39mdestroyAllWindows()\n\u001b[0;32m     18\u001b[0m     images\u001b[38;5;241m.\u001b[39mappend(n)\n",
      "\u001b[1;31mKeyboardInterrupt\u001b[0m: "
     ]
    }
   ],
   "source": [
    "test1=load_Dataset(\"../fonts-dataset/Scheherazade New/*.jpeg\")"
   ]
  },
  {
   "cell_type": "code",
   "execution_count": null,
   "metadata": {},
   "outputs": [
    {
     "ename": "KeyboardInterrupt",
     "evalue": "",
     "output_type": "error",
     "traceback": [
      "\u001b[1;31m---------------------------------------------------------------------------\u001b[0m",
      "\u001b[1;31mKeyboardInterrupt\u001b[0m                         Traceback (most recent call last)",
      "Cell \u001b[1;32mIn[11], line 5\u001b[0m\n\u001b[0;32m      3\u001b[0m img\u001b[38;5;241m=\u001b[39massure_white_bg(img)\n\u001b[0;32m      4\u001b[0m cv2\u001b[38;5;241m.\u001b[39mimshow(\u001b[38;5;124m\"\u001b[39m\u001b[38;5;124mImage\u001b[39m\u001b[38;5;124m\"\u001b[39m, img)\n\u001b[1;32m----> 5\u001b[0m \u001b[43mcv2\u001b[49m\u001b[38;5;241;43m.\u001b[39;49m\u001b[43mwaitKey\u001b[49m\u001b[43m(\u001b[49m\u001b[38;5;241;43m0\u001b[39;49m\u001b[43m)\u001b[49m\n\u001b[0;32m      6\u001b[0m cv2\u001b[38;5;241m.\u001b[39mdestroyAllWindows()\n",
      "\u001b[1;31mKeyboardInterrupt\u001b[0m: "
     ]
    }
   ],
   "source": [
    "for img in test1:\n",
    "    img=threshold_image(img)\n",
    "    img=assure_white_bg(img)\n",
    "    cv2.imshow(\"Image\", img)\n",
    "    cv2.waitKey(0)\n",
    "    cv2.destroyAllWindows()"
   ]
  }
 ],
 "metadata": {
  "kernelspec": {
   "display_name": "Python 3",
   "language": "python",
   "name": "python3"
  },
  "language_info": {
   "codemirror_mode": {
    "name": "ipython",
    "version": 3
   },
   "file_extension": ".py",
   "mimetype": "text/x-python",
   "name": "python",
   "nbconvert_exporter": "python",
   "pygments_lexer": "ipython3",
   "version": "3.11.4"
  }
 },
 "nbformat": 4,
 "nbformat_minor": 2
}
