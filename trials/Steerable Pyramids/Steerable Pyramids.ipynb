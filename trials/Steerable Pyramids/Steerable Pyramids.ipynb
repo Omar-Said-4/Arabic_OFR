{
 "cells": [
  {
   "cell_type": "code",
   "execution_count": 150,
   "metadata": {},
   "outputs": [
    {
     "name": "stdout",
     "output_type": "stream",
     "text": [
      "The autoreload extension is already loaded. To reload it, use:\n",
      "  %reload_ext autoreload\n"
     ]
    }
   ],
   "source": [
    "#import cv2\n",
    "import numpy as np\n",
    "from sklearn.neighbors import KNeighborsClassifier\n",
    "from sklearn.model_selection import train_test_split\n",
    "import pylab as pl\n",
    "from sklearn.neighbors import NearestNeighbors\n",
    "from sklearn.metrics import accuracy_score, classification_report\n",
    "from sklearn.cluster import MiniBatchKMeans\n",
    "from preprocess import *\n",
    "from collections import Counter\n",
    "import cv2\n",
    "from skimage.transform import pyramid_reduce\n",
    "%load_ext autoreload\n",
    "%autoreload 2"
   ]
  },
  {
   "cell_type": "code",
   "execution_count": 151,
   "metadata": {},
   "outputs": [],
   "source": [
    "image=cv2.imread(\"../fonts-dataset/Marhey/24.jpeg\")\n",
    "cv2.imshow(\"image\",image)\n",
    "cv2.waitKey(0)\n",
    "cv2.destroyAllWindows()"
   ]
  },
  {
   "cell_type": "code",
   "execution_count": 152,
   "metadata": {},
   "outputs": [],
   "source": [
    "image=denoise(image)\n",
    "cv2.imshow(\"image\",image)\n",
    "cv2.waitKey(0)\n",
    "cv2.destroyAllWindows()"
   ]
  },
  {
   "cell_type": "code",
   "execution_count": 153,
   "metadata": {},
   "outputs": [],
   "source": [
    "levels = []\n",
    "while image.shape[0] > 128:\n",
    "  levels.append(image)\n",
    "  image = pyramid_reduce(image)\n",
    "levels.append(image)"
   ]
  },
  {
   "cell_type": "code",
   "execution_count": 154,
   "metadata": {},
   "outputs": [],
   "source": [
    "for i in range(len(levels)):\n",
    "  cv2.imshow(\"level \"+str(i), levels[i])\n",
    "  cv2.waitKey(0)\n",
    "  cv2.destroyAllWindows()"
   ]
  },
  {
   "cell_type": "markdown",
   "metadata": {},
   "source": [
    "## Gaussian Kernel"
   ]
  },
  {
   "cell_type": "code",
   "execution_count": 155,
   "metadata": {},
   "outputs": [],
   "source": [
    "m = 4 # 1 sided filter size\n",
    "x_index, y_index = np.meshgrid(np.arange(-m, m + 1), np.arange(-m, m + 1))\n",
    "x_index = x_index.reshape((-1, 1))\n",
    "y_index = y_index.reshape((-1, 1))\n",
    "\n",
    "G = lambda x, y: np.exp(-(x**2 + y**2))\n",
    "G0 = lambda x, y: -2*x*G(x,y)\n",
    "\n",
    "# OPTIONAL: remove negative (to align mathematically) since vertical numers increase as we go down \n",
    "G90 = lambda x, y: 2*y*G(x,y) \n",
    "\n",
    "# Gaussian Kernel\n",
    "gk = G(x_index, y_index).reshape((m*2 + 1, m*2 + 1))\n",
    "\n",
    "# Gaussian 1st Deriviative with 0 degree orientation\n",
    "gk0 = G0(x_index, y_index).reshape((m*2 + 1, m*2 + 1))\n",
    "\n",
    "# Gaussian 1st Deriviative with 90 degree orientation\n",
    "gk90 = G90(x_index, y_index).reshape((m*2 + 1, m*2 + 1))"
   ]
  },
  {
   "cell_type": "code",
   "execution_count": 156,
   "metadata": {},
   "outputs": [
    {
     "data": {
      "image/png": "[encoded data removed]",
      "text/plain": [
       "<Figure size 1500x500 with 3 Axes>"
      ]
     },
     "metadata": {},
     "output_type": "display_data"
    }
   ],
   "source": [
    "_, ax = plt.subplots(1, 3, figsize=(15, 5))\n",
    "ax[0].imshow(gk)\n",
    "ax[0].set_title(\"Gaussian Kernel\")\n",
    "ax[1].imshow(gk0)\n",
    "ax[1].set_title(\"Gaussian 1st derivative at 0 deg\")\n",
    "ax[2].imshow(gk90)\n",
    "ax[2].set_title(\"Gaussian 1st derivative at 90 deg\");"
   ]
  },
  {
   "cell_type": "code",
   "execution_count": 157,
   "metadata": {},
   "outputs": [],
   "source": [
    "#! filter2D function performs normalization automatically by default.\n",
    "R = cv2.filter2D(levels[0], ddepth=-1, kernel=gk)\n",
    "R0 = cv2.filter2D(levels[0], ddepth=-1, kernel=gk0)\n",
    "R90 = cv2.filter2D(levels[0], ddepth=-1, kernel=gk90)"
   ]
  },
  {
   "cell_type": "code",
   "execution_count": 158,
   "metadata": {},
   "outputs": [],
   "source": [
    "cv2.imshow(\"image\",R90)\n",
    "cv2.waitKey(0)\n",
    "cv2.destroyAllWindows()"
   ]
  },
  {
   "cell_type": "markdown",
   "metadata": {},
   "source": [
    "## Steering Filter"
   ]
  },
  {
   "cell_type": "code",
   "execution_count": 159,
   "metadata": {},
   "outputs": [
    {
     "name": "stdout",
     "output_type": "stream",
     "text": [
      "[  0  30  60  90 120 150]\n"
     ]
    }
   ],
   "source": [
    "steering_angles = np.arange(0, 180, 30)\n",
    "print(steering_angles)"
   ]
  },
  {
   "cell_type": "code",
   "execution_count": 160,
   "metadata": {},
   "outputs": [
    {
     "data": {
      "text/plain": [
       "(1181, 1181, 6)"
      ]
     },
     "execution_count": 160,
     "metadata": {},
     "output_type": "execute_result"
    }
   ],
   "source": [
    "results = np.zeros((levels[0].shape[0], levels[0].shape[1], len(steering_angles)))\n",
    "results.shape"
   ]
  },
  {
   "cell_type": "code",
   "execution_count": 161,
   "metadata": {},
   "outputs": [],
   "source": [
    "gk_theta=[]\n",
    "for angle in steering_angles:\n",
    "  gk_theta.append(np.cos(np.radians(angle))*gk0 + np.sin(np.radians(angle))*gk90)"
   ]
  },
  {
   "cell_type": "code",
   "execution_count": 162,
   "metadata": {},
   "outputs": [],
   "source": [
    "R_Theta=[]\n",
    "for g_theta in gk_theta:\n",
    "  R_Theta.append(cv2.filter2D(levels[0], ddepth=-1, kernel=g_theta))"
   ]
  },
  {
   "cell_type": "code",
   "execution_count": 163,
   "metadata": {},
   "outputs": [],
   "source": [
    "cv2.imshow(\"image\",R_Theta[3])\n",
    "cv2.imshow(\"image2\",R90)\n",
    "cv2.waitKey(0)\n",
    "cv2.destroyAllWindows()"
   ]
  },
  {
   "cell_type": "code",
   "execution_count": 164,
   "metadata": {},
   "outputs": [],
   "source": [
    "for img in R_Theta:  \n",
    "  cv2.imshow(\"image\",img)\n",
    "  cv2.waitKey(0)\n",
    "  cv2.destroyAllWindows()"
   ]
  }
 ],
 "metadata": {
  "kernelspec": {
   "display_name": "Python 3",
   "language": "python",
   "name": "python3"
  },
  "language_info": {
   "codemirror_mode": {
    "name": "ipython",
    "version": 3
   },
   "file_extension": ".py",
   "mimetype": "text/x-python",
   "name": "python",
   "nbconvert_exporter": "python",
   "pygments_lexer": "ipython3",
   "version": "3.11.4"
  }
 },
 "nbformat": 4,
 "nbformat_minor": 2
}
